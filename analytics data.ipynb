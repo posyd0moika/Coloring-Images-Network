{
 "cells": [
  {
   "cell_type": "code",
   "execution_count": 1,
   "metadata": {},
   "outputs": [],
   "source": [
    "import numpy as np\n",
    "import matplotlib.pyplot as plt\n",
    "from tensorflow.keras.models import load_model\n",
    "from data_preparation import *"
   ]
  },
  {
   "cell_type": "code",
   "execution_count": 2,
   "outputs": [],
   "source": [
    "ds = IteratorImages(\"caltech101\",100,\"train\",\"image\",(256,256),True)"
   ],
   "metadata": {
    "collapsed": false
   }
  },
  {
   "cell_type": "code",
   "execution_count": 3,
   "outputs": [
    {
     "name": "stderr",
     "output_type": "stream",
     "text": [
      "2023-04-23 16:38:36.623668: W tensorflow/tsl/platform/profile_utils/cpu_utils.cc:128] Failed to get CPU frequency: 0 Hz\n",
      "2023-04-23 16:38:36.656600: W tensorflow/core/kernels/data/cache_dataset_ops.cc:856] The calling iterator did not fully read the dataset being cached. In order to avoid unexpected truncation of the dataset, the partially cached contents of the dataset  will be discarded. This can happen if you have an input pipeline similar to `dataset.cache().take(k).repeat()`. You should use `dataset.take(k).cache().repeat()` instead.\n"
     ]
    },
    {
     "ename": "ValueError",
     "evalue": "the input array must have size 3 along `channel_axis`, got (256, 256)",
     "output_type": "error",
     "traceback": [
      "\u001B[0;31m---------------------------------------------------------------------------\u001B[0m",
      "\u001B[0;31mValueError\u001B[0m                                Traceback (most recent call last)",
      "Cell \u001B[0;32mIn[3], line 1\u001B[0m\n\u001B[0;32m----> 1\u001B[0m x,y,res \u001B[38;5;241m=\u001B[39m \u001B[38;5;28;43mnext\u001B[39;49m\u001B[43m(\u001B[49m\u001B[43mds\u001B[49m\u001B[43m)\u001B[49m\n",
      "File \u001B[0;32m~/PycharmProjects/Coloring Images Network/data_preparation.py:32\u001B[0m, in \u001B[0;36mIteratorImages.__next__\u001B[0;34m(self)\u001B[0m\n\u001B[1;32m     30\u001B[0m \u001B[38;5;28;01mfor\u001B[39;00m ex \u001B[38;5;129;01min\u001B[39;00m \u001B[38;5;28mself\u001B[39m\u001B[38;5;241m.\u001B[39mds:\n\u001B[1;32m     31\u001B[0m     res \u001B[38;5;241m=\u001B[39m ex[\u001B[38;5;28mself\u001B[39m\u001B[38;5;241m.\u001B[39mname]\n\u001B[0;32m---> 32\u001B[0m     x, y \u001B[38;5;241m=\u001B[39m \u001B[38;5;28;43mself\u001B[39;49m\u001B[38;5;241;43m.\u001B[39;49m\u001B[43mprocessed_image\u001B[49m\u001B[43m(\u001B[49m\u001B[43mres\u001B[49m\u001B[43m,\u001B[49m\u001B[43m \u001B[49m\u001B[38;5;28;43mself\u001B[39;49m\u001B[38;5;241;43m.\u001B[39;49m\u001B[43msize_image\u001B[49m\u001B[43m)\u001B[49m\n\u001B[1;32m     33\u001B[0m     \u001B[38;5;28;01mreturn\u001B[39;00m x, y \u001B[38;5;28;01mif\u001B[39;00m \u001B[38;5;28mself\u001B[39m\u001B[38;5;241m.\u001B[39mload \u001B[38;5;28;01melse\u001B[39;00m x, y, ex[\u001B[38;5;124m\"\u001B[39m\u001B[38;5;124mlabel\u001B[39m\u001B[38;5;124m\"\u001B[39m]\n",
      "File \u001B[0;32m~/PycharmProjects/Coloring Images Network/data_preparation.py:46\u001B[0m, in \u001B[0;36mIteratorImages.processed_image\u001B[0;34m(self, img, size)\u001B[0m\n\u001B[1;32m     44\u001B[0m \u001B[38;5;28;01mfor\u001B[39;00m im \u001B[38;5;129;01min\u001B[39;00m img:\n\u001B[1;32m     45\u001B[0m     image \u001B[38;5;241m=\u001B[39m conver_good_size(im, size)\n\u001B[0;32m---> 46\u001B[0m     lab \u001B[38;5;241m=\u001B[39m \u001B[43mrgb2lab\u001B[49m\u001B[43m(\u001B[49m\u001B[38;5;241;43m1.0\u001B[39;49m\u001B[43m \u001B[49m\u001B[38;5;241;43m/\u001B[39;49m\u001B[43m \u001B[49m\u001B[38;5;241;43m255\u001B[39;49m\u001B[43m \u001B[49m\u001B[38;5;241;43m*\u001B[39;49m\u001B[43m \u001B[49m\u001B[43mimage\u001B[49m\u001B[43m)\u001B[49m\n\u001B[1;32m     47\u001B[0m     X, ab \u001B[38;5;241m=\u001B[39m lab[:, :, \u001B[38;5;241m0\u001B[39m], lab[:, :, \u001B[38;5;241m1\u001B[39m:]\n\u001B[1;32m     49\u001B[0m     ab \u001B[38;5;241m/\u001B[39m\u001B[38;5;241m=\u001B[39m \u001B[38;5;241m128\u001B[39m\n",
      "File \u001B[0;32m~/opt/anaconda3/envs/tf/lib/python3.10/site-packages/skimage/_shared/utils.py:394\u001B[0m, in \u001B[0;36mchannel_as_last_axis.__call__.<locals>.fixed_func\u001B[0;34m(*args, **kwargs)\u001B[0m\n\u001B[1;32m    391\u001B[0m channel_axis \u001B[38;5;241m=\u001B[39m kwargs\u001B[38;5;241m.\u001B[39mget(\u001B[38;5;124m'\u001B[39m\u001B[38;5;124mchannel_axis\u001B[39m\u001B[38;5;124m'\u001B[39m, \u001B[38;5;28;01mNone\u001B[39;00m)\n\u001B[1;32m    393\u001B[0m \u001B[38;5;28;01mif\u001B[39;00m channel_axis \u001B[38;5;129;01mis\u001B[39;00m \u001B[38;5;28;01mNone\u001B[39;00m:\n\u001B[0;32m--> 394\u001B[0m     \u001B[38;5;28;01mreturn\u001B[39;00m \u001B[43mfunc\u001B[49m\u001B[43m(\u001B[49m\u001B[38;5;241;43m*\u001B[39;49m\u001B[43margs\u001B[49m\u001B[43m,\u001B[49m\u001B[43m \u001B[49m\u001B[38;5;241;43m*\u001B[39;49m\u001B[38;5;241;43m*\u001B[39;49m\u001B[43mkwargs\u001B[49m\u001B[43m)\u001B[49m\n\u001B[1;32m    396\u001B[0m \u001B[38;5;66;03m# TODO: convert scalars to a tuple in anticipation of eventually\u001B[39;00m\n\u001B[1;32m    397\u001B[0m \u001B[38;5;66;03m#       supporting a tuple of channel axes. Right now, only an\u001B[39;00m\n\u001B[1;32m    398\u001B[0m \u001B[38;5;66;03m#       integer or a single-element tuple is supported, though.\u001B[39;00m\n\u001B[1;32m    399\u001B[0m \u001B[38;5;28;01mif\u001B[39;00m np\u001B[38;5;241m.\u001B[39misscalar(channel_axis):\n",
      "File \u001B[0;32m~/opt/anaconda3/envs/tf/lib/python3.10/site-packages/skimage/color/colorconv.py:1139\u001B[0m, in \u001B[0;36mrgb2lab\u001B[0;34m(rgb, illuminant, observer, channel_axis)\u001B[0m\n\u001B[1;32m   1093\u001B[0m \u001B[38;5;129m@channel_as_last_axis\u001B[39m()\n\u001B[1;32m   1094\u001B[0m \u001B[38;5;28;01mdef\u001B[39;00m \u001B[38;5;21mrgb2lab\u001B[39m(rgb, illuminant\u001B[38;5;241m=\u001B[39m\u001B[38;5;124m\"\u001B[39m\u001B[38;5;124mD65\u001B[39m\u001B[38;5;124m\"\u001B[39m, observer\u001B[38;5;241m=\u001B[39m\u001B[38;5;124m\"\u001B[39m\u001B[38;5;124m2\u001B[39m\u001B[38;5;124m\"\u001B[39m, \u001B[38;5;241m*\u001B[39m, channel_axis\u001B[38;5;241m=\u001B[39m\u001B[38;5;241m-\u001B[39m\u001B[38;5;241m1\u001B[39m):\n\u001B[1;32m   1095\u001B[0m \u001B[38;5;250m    \u001B[39m\u001B[38;5;124;03m\"\"\"Conversion from the sRGB color space (IEC 61966-2-1:1999)\u001B[39;00m\n\u001B[1;32m   1096\u001B[0m \u001B[38;5;124;03m    to the CIE Lab colorspace under the given illuminant and observer.\u001B[39;00m\n\u001B[1;32m   1097\u001B[0m \n\u001B[0;32m   (...)\u001B[0m\n\u001B[1;32m   1137\u001B[0m \u001B[38;5;124;03m    .. [1] https://en.wikipedia.org/wiki/Standard_illuminant\u001B[39;00m\n\u001B[1;32m   1138\u001B[0m \u001B[38;5;124;03m    \"\"\"\u001B[39;00m\n\u001B[0;32m-> 1139\u001B[0m     \u001B[38;5;28;01mreturn\u001B[39;00m xyz2lab(\u001B[43mrgb2xyz\u001B[49m\u001B[43m(\u001B[49m\u001B[43mrgb\u001B[49m\u001B[43m)\u001B[49m, illuminant, observer)\n",
      "File \u001B[0;32m~/opt/anaconda3/envs/tf/lib/python3.10/site-packages/skimage/_shared/utils.py:394\u001B[0m, in \u001B[0;36mchannel_as_last_axis.__call__.<locals>.fixed_func\u001B[0;34m(*args, **kwargs)\u001B[0m\n\u001B[1;32m    391\u001B[0m channel_axis \u001B[38;5;241m=\u001B[39m kwargs\u001B[38;5;241m.\u001B[39mget(\u001B[38;5;124m'\u001B[39m\u001B[38;5;124mchannel_axis\u001B[39m\u001B[38;5;124m'\u001B[39m, \u001B[38;5;28;01mNone\u001B[39;00m)\n\u001B[1;32m    393\u001B[0m \u001B[38;5;28;01mif\u001B[39;00m channel_axis \u001B[38;5;129;01mis\u001B[39;00m \u001B[38;5;28;01mNone\u001B[39;00m:\n\u001B[0;32m--> 394\u001B[0m     \u001B[38;5;28;01mreturn\u001B[39;00m \u001B[43mfunc\u001B[49m\u001B[43m(\u001B[49m\u001B[38;5;241;43m*\u001B[39;49m\u001B[43margs\u001B[49m\u001B[43m,\u001B[49m\u001B[43m \u001B[49m\u001B[38;5;241;43m*\u001B[39;49m\u001B[38;5;241;43m*\u001B[39;49m\u001B[43mkwargs\u001B[49m\u001B[43m)\u001B[49m\n\u001B[1;32m    396\u001B[0m \u001B[38;5;66;03m# TODO: convert scalars to a tuple in anticipation of eventually\u001B[39;00m\n\u001B[1;32m    397\u001B[0m \u001B[38;5;66;03m#       supporting a tuple of channel axes. Right now, only an\u001B[39;00m\n\u001B[1;32m    398\u001B[0m \u001B[38;5;66;03m#       integer or a single-element tuple is supported, though.\u001B[39;00m\n\u001B[1;32m    399\u001B[0m \u001B[38;5;28;01mif\u001B[39;00m np\u001B[38;5;241m.\u001B[39misscalar(channel_axis):\n",
      "File \u001B[0;32m~/opt/anaconda3/envs/tf/lib/python3.10/site-packages/skimage/color/colorconv.py:746\u001B[0m, in \u001B[0;36mrgb2xyz\u001B[0;34m(rgb, channel_axis)\u001B[0m\n\u001B[1;32m    705\u001B[0m \u001B[38;5;250m\u001B[39m\u001B[38;5;124;03m\"\"\"RGB to XYZ color space conversion.\u001B[39;00m\n\u001B[1;32m    706\u001B[0m \n\u001B[1;32m    707\u001B[0m \u001B[38;5;124;03mParameters\u001B[39;00m\n\u001B[0;32m   (...)\u001B[0m\n\u001B[1;32m    742\u001B[0m \u001B[38;5;124;03m>>> img_xyz = rgb2xyz(img)\u001B[39;00m\n\u001B[1;32m    743\u001B[0m \u001B[38;5;124;03m\"\"\"\u001B[39;00m\n\u001B[1;32m    744\u001B[0m \u001B[38;5;66;03m# Follow the algorithm from http://www.easyrgb.com/index.php\u001B[39;00m\n\u001B[1;32m    745\u001B[0m \u001B[38;5;66;03m# except we don't multiply/divide by 100 in the conversion\u001B[39;00m\n\u001B[0;32m--> 746\u001B[0m arr \u001B[38;5;241m=\u001B[39m \u001B[43m_prepare_colorarray\u001B[49m\u001B[43m(\u001B[49m\u001B[43mrgb\u001B[49m\u001B[43m,\u001B[49m\u001B[43m \u001B[49m\u001B[43mchannel_axis\u001B[49m\u001B[38;5;241;43m=\u001B[39;49m\u001B[38;5;241;43m-\u001B[39;49m\u001B[38;5;241;43m1\u001B[39;49m\u001B[43m)\u001B[49m\u001B[38;5;241m.\u001B[39mcopy()\n\u001B[1;32m    747\u001B[0m mask \u001B[38;5;241m=\u001B[39m arr \u001B[38;5;241m>\u001B[39m \u001B[38;5;241m0.04045\u001B[39m\n\u001B[1;32m    748\u001B[0m arr[mask] \u001B[38;5;241m=\u001B[39m np\u001B[38;5;241m.\u001B[39mpower((arr[mask] \u001B[38;5;241m+\u001B[39m \u001B[38;5;241m0.055\u001B[39m) \u001B[38;5;241m/\u001B[39m \u001B[38;5;241m1.055\u001B[39m, \u001B[38;5;241m2.4\u001B[39m)\n",
      "File \u001B[0;32m~/opt/anaconda3/envs/tf/lib/python3.10/site-packages/skimage/color/colorconv.py:140\u001B[0m, in \u001B[0;36m_prepare_colorarray\u001B[0;34m(arr, force_copy, channel_axis)\u001B[0m\n\u001B[1;32m    137\u001B[0m \u001B[38;5;28;01mif\u001B[39;00m arr\u001B[38;5;241m.\u001B[39mshape[channel_axis] \u001B[38;5;241m!=\u001B[39m \u001B[38;5;241m3\u001B[39m:\n\u001B[1;32m    138\u001B[0m     msg \u001B[38;5;241m=\u001B[39m (\u001B[38;5;124mf\u001B[39m\u001B[38;5;124m'\u001B[39m\u001B[38;5;124mthe input array must have size 3 along `channel_axis`, \u001B[39m\u001B[38;5;124m'\u001B[39m\n\u001B[1;32m    139\u001B[0m            \u001B[38;5;124mf\u001B[39m\u001B[38;5;124m'\u001B[39m\u001B[38;5;124mgot \u001B[39m\u001B[38;5;132;01m{\u001B[39;00marr\u001B[38;5;241m.\u001B[39mshape\u001B[38;5;132;01m}\u001B[39;00m\u001B[38;5;124m'\u001B[39m)\n\u001B[0;32m--> 140\u001B[0m     \u001B[38;5;28;01mraise\u001B[39;00m \u001B[38;5;167;01mValueError\u001B[39;00m(msg)\n\u001B[1;32m    142\u001B[0m float_dtype \u001B[38;5;241m=\u001B[39m _supported_float_type(arr\u001B[38;5;241m.\u001B[39mdtype)\n\u001B[1;32m    143\u001B[0m \u001B[38;5;28;01mif\u001B[39;00m float_dtype \u001B[38;5;241m==\u001B[39m np\u001B[38;5;241m.\u001B[39mfloat32:\n",
      "\u001B[0;31mValueError\u001B[0m: the input array must have size 3 along `channel_axis`, got (256, 256)"
     ]
    }
   ],
   "source": [
    "x,y,res = next(ds)"
   ],
   "metadata": {
    "collapsed": false
   }
  }
 ],
 "metadata": {
  "kernelspec": {
   "display_name": "Python 3 (ipykernel)",
   "language": "python",
   "name": "python3"
  },
  "language_info": {
   "codemirror_mode": {
    "name": "ipython",
    "version": 3
   },
   "file_extension": ".py",
   "mimetype": "text/x-python",
   "name": "python",
   "nbconvert_exporter": "python",
   "pygments_lexer": "ipython3",
   "version": "3.10.9"
  }
 },
 "nbformat": 4,
 "nbformat_minor": 1
}
