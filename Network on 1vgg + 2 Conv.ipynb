{
 "cells": [
  {
   "cell_type": "code",
   "execution_count": 15,
   "metadata": {
    "collapsed": true
   },
   "outputs": [],
   "source": [
    "from tensorflow.keras import Sequential, Model\n",
    "from tensorflow.keras.applications import InceptionResNetV2, VGG19\n",
    "from keras.layers import *\n",
    "import keras.backend as K"
   ]
  },
  {
   "cell_type": "code",
   "execution_count": 16,
   "metadata": {},
   "outputs": [
    {
     "name": "stdout",
     "output_type": "stream",
     "text": [
      "Model: \"vgg19\"\n",
      "_________________________________________________________________\n",
      " Layer (type)                Output Shape              Param #   \n",
      "=================================================================\n",
      " input_8 (InputLayer)        [(None, 224, 224, 3)]     0         \n",
      "                                                                 \n",
      " block1_conv1 (Conv2D)       (None, 224, 224, 64)      1792      \n",
      "                                                                 \n",
      " block1_conv2 (Conv2D)       (None, 224, 224, 64)      36928     \n",
      "                                                                 \n",
      " block1_pool (MaxPooling2D)  (None, 112, 112, 64)      0         \n",
      "                                                                 \n",
      " block2_conv1 (Conv2D)       (None, 112, 112, 128)     73856     \n",
      "                                                                 \n",
      " block2_conv2 (Conv2D)       (None, 112, 112, 128)     147584    \n",
      "                                                                 \n",
      " block2_pool (MaxPooling2D)  (None, 56, 56, 128)       0         \n",
      "                                                                 \n",
      " block3_conv1 (Conv2D)       (None, 56, 56, 256)       295168    \n",
      "                                                                 \n",
      " block3_conv2 (Conv2D)       (None, 56, 56, 256)       590080    \n",
      "                                                                 \n",
      " block3_conv3 (Conv2D)       (None, 56, 56, 256)       590080    \n",
      "                                                                 \n",
      " block3_conv4 (Conv2D)       (None, 56, 56, 256)       590080    \n",
      "                                                                 \n",
      " block3_pool (MaxPooling2D)  (None, 28, 28, 256)       0         \n",
      "                                                                 \n",
      " block4_conv1 (Conv2D)       (None, 28, 28, 512)       1180160   \n",
      "                                                                 \n",
      " block4_conv2 (Conv2D)       (None, 28, 28, 512)       2359808   \n",
      "                                                                 \n",
      " block4_conv3 (Conv2D)       (None, 28, 28, 512)       2359808   \n",
      "                                                                 \n",
      " block4_conv4 (Conv2D)       (None, 28, 28, 512)       2359808   \n",
      "                                                                 \n",
      " block4_pool (MaxPooling2D)  (None, 14, 14, 512)       0         \n",
      "                                                                 \n",
      " block5_conv1 (Conv2D)       (None, 14, 14, 512)       2359808   \n",
      "                                                                 \n",
      " block5_conv2 (Conv2D)       (None, 14, 14, 512)       2359808   \n",
      "                                                                 \n",
      " block5_conv3 (Conv2D)       (None, 14, 14, 512)       2359808   \n",
      "                                                                 \n",
      " block5_conv4 (Conv2D)       (None, 14, 14, 512)       2359808   \n",
      "                                                                 \n",
      " block5_pool (MaxPooling2D)  (None, 7, 7, 512)         0         \n",
      "                                                                 \n",
      " flatten (Flatten)           (None, 25088)             0         \n",
      "                                                                 \n",
      " fc1 (Dense)                 (None, 4096)              102764544 \n",
      "                                                                 \n",
      " fc2 (Dense)                 (None, 4096)              16781312  \n",
      "                                                                 \n",
      " predictions (Dense)         (None, 1000)              4097000   \n",
      "                                                                 \n",
      "=================================================================\n",
      "Total params: 143,667,240\n",
      "Trainable params: 0\n",
      "Non-trainable params: 143,667,240\n",
      "_________________________________________________________________\n"
     ]
    }
   ],
   "source": [
    "vgg_cl = VGG19()\n",
    "vgg_cl.trainable = False\n",
    "vgg_cl.summary()"
   ]
  },
  {
   "cell_type": "code",
   "execution_count": 17,
   "metadata": {},
   "outputs": [],
   "source": [
    "model_ph = Sequential([\n",
    "    Conv2D(64, (3, 3), padding=\"same\", activation=\"relu\"),\n",
    "    Conv2D(64, (3, 3), padding=\"same\", activation=\"relu\", strides=(2, 2)),  # 112 112 64\n",
    "    Conv2D(256, (3, 3), padding=\"same\", activation=\"relu\"),\n",
    "    Conv2D(256, (3, 3), padding=\"same\", activation=\"relu\", strides=(2, 2)),  # 56 56 256\n",
    "    Conv2D(512, (3, 3), padding=\"same\", activation=\"relu\"),\n",
    "    Conv2D(512, (3, 3), padding=\"same\", activation=\"relu\", strides=(2, 2)),  # 28 28 512\n",
    "    Conv2D(1024, (3, 3), padding=\"same\", activation=\"relu\"), # 28,28 , 1024\n",
    "    Conv2D(1024, (3, 3), padding=\"same\", activation=\"relu\", strides=(2, 2)) # 14 14 1024\n",
    "\n",
    "\n",
    "])\n",
    "model_out = Sequential([\n",
    "    Input((14, 14, 1030), 1),\n",
    "    UpSampling2D((2, 2)), # 28,28,1045\n",
    "    Conv2D(512, (3, 3), padding=\"same\", activation=\"relu\"),\n",
    "    UpSampling2D((2, 2)),  # 56,56,514\n",
    "    Conv2D(128, (3, 3), padding=\"same\", activation=\"relu\"),\n",
    "    UpSampling2D((2, 2)),  # 112 112 128\n",
    "    Conv2D(64, (3, 3), padding=\"same\", activation=\"relu\"),\n",
    "    Conv2D(32, (3, 3), padding=\"same\", activation=\"relu\"),\n",
    "    Conv2D(2, (3, 3), padding=\"same\", activation=\"tanh\"),\n",
    "    UpSampling2D((2, 2)),  # 224 224\n",
    "])\n"
   ]
  },
  {
   "cell_type": "code",
   "execution_count": 18,
   "metadata": {},
   "outputs": [
    {
     "name": "stdout",
     "output_type": "stream",
     "text": [
      "Model: \"model_2\"\n",
      "__________________________________________________________________________________________________\n",
      " Layer (type)                   Output Shape         Param #     Connected to                     \n",
      "==================================================================================================\n",
      " input_10 (InputLayer)          [(1, 224, 224, 1)]   0           []                               \n",
      "                                                                                                  \n",
      " concatenate_6 (Concatenate)    (1, 224, 224, 3)     0           ['input_10[0][0]',               \n",
      "                                                                  'input_10[0][0]',               \n",
      "                                                                  'input_10[0][0]']               \n",
      "                                                                                                  \n",
      " vgg19 (Functional)             (None, 1000)         143667240   ['concatenate_6[0][0]']          \n",
      "                                                                                                  \n",
      " concatenate_7 (Concatenate)    (1, 1176)            0           ['vgg19[0][0]']                  \n",
      "                                                                                                  \n",
      " reshape_2 (Reshape)            (1, 14, 14, 6)       0           ['concatenate_7[0][0]']          \n",
      "                                                                                                  \n",
      " sequential_4 (Sequential)      (1, 14, 14, 1024)    18473152    ['input_10[0][0]']               \n",
      "                                                                                                  \n",
      " concatenate_8 (Concatenate)    (1, 14, 14, 1030)    0           ['reshape_2[0][0]',              \n",
      "                                                                  'sequential_4[0][0]']           \n",
      "                                                                                                  \n",
      " sequential_5 (Sequential)      (1, 224, 224, 2)     5429538     ['concatenate_8[0][0]']          \n",
      "                                                                                                  \n",
      "==================================================================================================\n",
      "Total params: 167,569,930\n",
      "Trainable params: 23,902,690\n",
      "Non-trainable params: 143,667,240\n",
      "__________________________________________________________________________________________________\n"
     ]
    }
   ],
   "source": [
    "inp = Input((224, 224, 1), 1)\n",
    "inp_for_vgg = concatenate([inp, inp, inp])\n",
    "out_vgg_cl = vgg_cl(inp_for_vgg)  # 1 1000\n",
    "out_ph_model = model_ph(inp)  # 28 28 512\n",
    "\n",
    "concatenate_vgg_zero = concatenate([\n",
    "    out_vgg_cl,\n",
    "    K.constant([[0 for _ in range(176)] for _ in range(out_vgg_cl.shape[0])], dtype=float)\n",
    "])\n",
    "\n",
    "concatenate_vgg_re = Reshape((14, 14, 6))(concatenate_vgg_zero)\n",
    "\n",
    "concatenate_vgg_ph = concatenate([concatenate_vgg_re, out_ph_model])  # 28 28 514\n",
    "\n",
    "output = model_out(concatenate_vgg_ph)\n",
    "\n",
    "model = Model(inp, output)\n",
    "model.summary()"
   ]
  },
  {
   "cell_type": "code",
   "execution_count": 19,
   "metadata": {},
   "outputs": [
    {
     "data": {
      "text/plain": "((1, 224, 224, 1), (1, 224, 224, 2), (224, 224, 3))"
     },
     "execution_count": 19,
     "metadata": {},
     "output_type": "execute_result"
    }
   ],
   "source": [
    "from data_preparation import *\n",
    "\n",
    "x, ab, rgb = create_data_imagenet()\n",
    "x.shape, ab.shape, rgb.shape"
   ]
  },
  {
   "cell_type": "code",
   "execution_count": 20,
   "metadata": {},
   "outputs": [
    {
     "name": "stdout",
     "output_type": "stream",
     "text": [
      "epochs = 0 "
     ]
    },
    {
     "ename": "NameError",
     "evalue": "name 'IteratorImages' is not defined",
     "output_type": "error",
     "traceback": [
      "\u001B[0;31m---------------------------------------------------------------------------\u001B[0m",
      "\u001B[0;31mNameError\u001B[0m                                 Traceback (most recent call last)",
      "Cell \u001B[0;32mIn[20], line 7\u001B[0m\n\u001B[1;32m      5\u001B[0m \u001B[38;5;28;01mfor\u001B[39;00m i \u001B[38;5;129;01min\u001B[39;00m \u001B[38;5;28mrange\u001B[39m(epochs):\n\u001B[1;32m      6\u001B[0m     \u001B[38;5;28mprint\u001B[39m(\u001B[38;5;124mf\u001B[39m\u001B[38;5;124m\"\u001B[39m\u001B[38;5;124mepochs = \u001B[39m\u001B[38;5;132;01m{\u001B[39;00mi\u001B[38;5;132;01m}\u001B[39;00m\u001B[38;5;124m\"\u001B[39m,end\u001B[38;5;241m=\u001B[39m\u001B[38;5;124m\"\u001B[39m\u001B[38;5;124m \u001B[39m\u001B[38;5;124m\"\u001B[39m)\n\u001B[0;32m----> 7\u001B[0m     itr \u001B[38;5;241m=\u001B[39m \u001B[43mIteratorImages\u001B[49m()\n\u001B[1;32m      9\u001B[0m     \u001B[38;5;28;01mfor\u001B[39;00m j \u001B[38;5;129;01min\u001B[39;00m \u001B[38;5;28mrange\u001B[39m(\u001B[38;5;241m14500\u001B[39m):\n\u001B[1;32m     10\u001B[0m         \u001B[38;5;28mprint\u001B[39m(j)\n",
      "\u001B[0;31mNameError\u001B[0m: name 'IteratorImages' is not defined"
     ]
    }
   ],
   "source": [
    "model.compile(optimizer=\"adam\",\n",
    "              loss='mse',\n",
    "              metrics=['accuracy'])\n",
    "epochs = 300\n",
    "for i in range(epochs):\n",
    "    print(f\"epochs = {i}\",end=\" \")\n",
    "    itr = IteratorImages()\n",
    "\n",
    "    for j in range(14500):\n",
    "        print(j)\n",
    "        x,y = next(itr)\n",
    "        model.fit(x, y, epochs=1)\n",
    "        if j % 1000 == 0:\n",
    "            model.save(f\"model_{i}_{j}\")"
   ]
  },
  {
   "cell_type": "code",
   "execution_count": null,
   "metadata": {},
   "outputs": [],
   "source": [
    "a = model(x)\n",
    "res = lab_ab_in_rgb(x, a)\n",
    "rgb = np.array(rgb, dtype=int)\n",
    "plt.subplot(1, 2, 1)\n",
    "print(np.min(rgb))\n",
    "plt.imshow(rgb)\n",
    "\n",
    "plt.subplot(1, 2, 2)\n",
    "plt.imshow(res)\n",
    "plt.show()"
   ]
  },
  {
   "cell_type": "code",
   "execution_count": null,
   "outputs": [],
   "source": [
    "avg_img = avg_photo(rgb)\n",
    "x2, ab2 = grey_in_lab(avg_img.astype(int))"
   ],
   "metadata": {
    "collapsed": false
   }
  },
  {
   "cell_type": "code",
   "execution_count": null,
   "outputs": [],
   "source": [],
   "metadata": {
    "collapsed": false
   }
  }
 ],
 "metadata": {
  "kernelspec": {
   "display_name": "Python 3 (ipykernel)",
   "language": "python",
   "name": "python3"
  },
  "language_info": {
   "codemirror_mode": {
    "name": "ipython",
    "version": 3
   },
   "file_extension": ".py",
   "mimetype": "text/x-python",
   "name": "python",
   "nbconvert_exporter": "python",
   "pygments_lexer": "ipython3",
   "version": "3.10.9"
  }
 },
 "nbformat": 4,
 "nbformat_minor": 1
}
