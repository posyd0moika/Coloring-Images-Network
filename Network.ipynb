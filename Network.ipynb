{
 "cells": [
  {
   "cell_type": "code",
   "execution_count": 1,
   "metadata": {
    "collapsed": true
   },
   "outputs": [],
   "source": [
    "import tensorflow as tf\n",
    "import numpy as np\n",
    "import matplotlib.pyplot as plt\n",
    "from tensorflow import keras\n",
    "from keras.layers import Conv2D, UpSampling2D, InputLayer, Lambda\n",
    "import tensorflow.keras.backend as K"
   ]
  },
  {
   "cell_type": "code",
   "execution_count": 2,
   "metadata": {},
   "outputs": [
    {
     "name": "stdout",
     "output_type": "stream",
     "text": [
      "Model: \"vgg19\"\n",
      "_________________________________________________________________\n",
      " Layer (type)                Output Shape              Param #   \n",
      "=================================================================\n",
      " input_1 (InputLayer)        [(None, 224, 224, 3)]     0         \n",
      "                                                                 \n",
      " block1_conv1 (Conv2D)       (None, 224, 224, 64)      1792      \n",
      "                                                                 \n",
      " block1_conv2 (Conv2D)       (None, 224, 224, 64)      36928     \n",
      "                                                                 \n",
      " block1_pool (MaxPooling2D)  (None, 112, 112, 64)      0         \n",
      "                                                                 \n",
      " block2_conv1 (Conv2D)       (None, 112, 112, 128)     73856     \n",
      "                                                                 \n",
      " block2_conv2 (Conv2D)       (None, 112, 112, 128)     147584    \n",
      "                                                                 \n",
      " block2_pool (MaxPooling2D)  (None, 56, 56, 128)       0         \n",
      "                                                                 \n",
      " block3_conv1 (Conv2D)       (None, 56, 56, 256)       295168    \n",
      "                                                                 \n",
      " block3_conv2 (Conv2D)       (None, 56, 56, 256)       590080    \n",
      "                                                                 \n",
      " block3_conv3 (Conv2D)       (None, 56, 56, 256)       590080    \n",
      "                                                                 \n",
      " block3_conv4 (Conv2D)       (None, 56, 56, 256)       590080    \n",
      "                                                                 \n",
      " block3_pool (MaxPooling2D)  (None, 28, 28, 256)       0         \n",
      "                                                                 \n",
      " block4_conv1 (Conv2D)       (None, 28, 28, 512)       1180160   \n",
      "                                                                 \n",
      " block4_conv2 (Conv2D)       (None, 28, 28, 512)       2359808   \n",
      "                                                                 \n",
      " block4_conv3 (Conv2D)       (None, 28, 28, 512)       2359808   \n",
      "                                                                 \n",
      " block4_conv4 (Conv2D)       (None, 28, 28, 512)       2359808   \n",
      "                                                                 \n",
      " block4_pool (MaxPooling2D)  (None, 14, 14, 512)       0         \n",
      "                                                                 \n",
      " block5_conv1 (Conv2D)       (None, 14, 14, 512)       2359808   \n",
      "                                                                 \n",
      " block5_conv2 (Conv2D)       (None, 14, 14, 512)       2359808   \n",
      "                                                                 \n",
      " block5_conv3 (Conv2D)       (None, 14, 14, 512)       2359808   \n",
      "                                                                 \n",
      " block5_conv4 (Conv2D)       (None, 14, 14, 512)       2359808   \n",
      "                                                                 \n",
      " block5_pool (MaxPooling2D)  (None, 7, 7, 512)         0         \n",
      "                                                                 \n",
      " flatten (Flatten)           (None, 25088)             0         \n",
      "                                                                 \n",
      " fc1 (Dense)                 (None, 4096)              102764544 \n",
      "                                                                 \n",
      " fc2 (Dense)                 (None, 4096)              16781312  \n",
      "                                                                 \n",
      " predictions (Dense)         (None, 1000)              4097000   \n",
      "                                                                 \n",
      "=================================================================\n",
      "Total params: 143,667,240\n",
      "Trainable params: 0\n",
      "Non-trainable params: 143,667,240\n",
      "_________________________________________________________________\n"
     ]
    }
   ],
   "source": [
    "vgg19_cl = keras.applications.VGG19()\n",
    "vgg19_cl.trainable = False\n",
    "vgg19_cl.summary()"
   ]
  },
  {
   "cell_type": "code",
   "execution_count": 3,
   "metadata": {},
   "outputs": [
    {
     "name": "stdout",
     "output_type": "stream",
     "text": [
      "Model: \"conv_imag\"\n",
      "_________________________________________________________________\n",
      " Layer (type)                Output Shape              Param #   \n",
      "=================================================================\n",
      " conv2d (Conv2D)             (None, 224, 224, 64)      640       \n",
      "                                                                 \n",
      " conv2d_1 (Conv2D)           (None, 112, 112, 64)      36928     \n",
      "                                                                 \n",
      " conv2d_2 (Conv2D)           (None, 112, 112, 128)     73856     \n",
      "                                                                 \n",
      " conv2d_3 (Conv2D)           (None, 56, 56, 128)       147584    \n",
      "                                                                 \n",
      " conv2d_4 (Conv2D)           (None, 56, 56, 256)       295168    \n",
      "                                                                 \n",
      " conv2d_5 (Conv2D)           (None, 28, 28, 256)       590080    \n",
      "                                                                 \n",
      " conv2d_6 (Conv2D)           (None, 28, 28, 512)       1180160   \n",
      "                                                                 \n",
      " conv2d_7 (Conv2D)           (None, 28, 28, 1024)      4719616   \n",
      "                                                                 \n",
      " conv2d_8 (Conv2D)           (None, 28, 28, 1024)      9438208   \n",
      "                                                                 \n",
      "=================================================================\n",
      "Total params: 16,482,240\n",
      "Trainable params: 16,482,240\n",
      "Non-trainable params: 0\n",
      "_________________________________________________________________\n"
     ]
    }
   ],
   "source": [
    "model_inp = keras.Sequential(name=\"conv_imag\")\n",
    "model_inp.add(InputLayer(input_shape=(224, 224, 1)))\n",
    "model_inp.add(Conv2D(64, (3, 3), activation='relu', padding='same'))\n",
    "model_inp.add(Conv2D(64, (3, 3), activation='relu', padding='same', strides=2))\n",
    "model_inp.add(Conv2D(128, (3, 3), activation='relu', padding='same'))\n",
    "model_inp.add(Conv2D(128, (3, 3), activation='relu', padding='same', strides=2))\n",
    "model_inp.add(Conv2D(256, (3, 3), activation='relu', padding='same'))\n",
    "model_inp.add(Conv2D(256, (3, 3), activation='relu', padding='same', strides=2))\n",
    "model_inp.add(Conv2D(512, (3, 3), activation='relu', padding='same'))\n",
    "model_inp.add(Conv2D(1024, (3, 3), activation='relu', padding='same'))\n",
    "model_inp.add(Conv2D(1024, (3, 3), activation='relu', padding='same'))\n",
    "model_inp.summary()"
   ]
  },
  {
   "cell_type": "code",
   "execution_count": 4,
   "metadata": {},
   "outputs": [
    {
     "name": "stdout",
     "output_type": "stream",
     "text": [
      "Model: \"sequential\"\n",
      "_________________________________________________________________\n",
      " Layer (type)                Output Shape              Param #   \n",
      "=================================================================\n",
      " up_sampling2d (UpSampling2D  (None, 56, 56, 1025)     0         \n",
      " )                                                               \n",
      "                                                                 \n",
      " conv2d_9 (Conv2D)           (None, 56, 56, 64)        590464    \n",
      "                                                                 \n",
      " up_sampling2d_1 (UpSampling  (None, 112, 112, 64)     0         \n",
      " 2D)                                                             \n",
      "                                                                 \n",
      " conv2d_10 (Conv2D)          (None, 112, 112, 32)      18464     \n",
      "                                                                 \n",
      " conv2d_11 (Conv2D)          (None, 112, 112, 2)       578       \n",
      "                                                                 \n",
      " up_sampling2d_2 (UpSampling  (None, 224, 224, 2)      0         \n",
      " 2D)                                                             \n",
      "                                                                 \n",
      "=================================================================\n",
      "Total params: 609,506\n",
      "Trainable params: 609,506\n",
      "Non-trainable params: 0\n",
      "_________________________________________________________________\n"
     ]
    }
   ],
   "source": [
    "model_out = keras.Sequential()\n",
    "model_out.add(InputLayer(input_shape=(28, 28, 1025)))\n",
    "model_out.add(UpSampling2D((2, 2)))\n",
    "model_out.add(Conv2D(64, (3, 3), activation='relu', padding='same'))\n",
    "model_out.add(UpSampling2D((2, 2)))\n",
    "model_out.add(Conv2D(32, (3, 3), activation='relu', padding='same'))\n",
    "model_out.add(Conv2D(2, (3, 3), activation='tanh', padding='same'))\n",
    "model_out.add(UpSampling2D((2, 2)))\n",
    "model_out.summary()"
   ]
  },
  {
   "cell_type": "code",
   "execution_count": 5,
   "metadata": {},
   "outputs": [
    {
     "data": {
      "text/plain": "(28, 28, 1026)"
     },
     "execution_count": 5,
     "metadata": {},
     "output_type": "execute_result"
    }
   ],
   "source": [
    "inp_conv = InputLayer((224, 224, 1))\n",
    "\n",
    "\n",
    "def func(x1, x2):\n",
    "    \"\"\"\n",
    "\n",
    "    :param x1:  shape = (28, 28, 1024)\n",
    "    :param x2: shape = (1000, )\n",
    "    :return: x3 shape (28, 28, 1026)\n",
    "    \"\"\"\n",
    "    temp_zero = np.zeros(shape=(28*28*2))\n",
    "    temp_zero[:1000] = x2\n",
    "    x2 = np.reshape(temp_zero,newshape=(28,28,2))\n",
    "    return np.reshape(np.append(x1,x2),newshape=(28,28,1026))\n",
    "\n",
    "x1 = np.array([[[i for i in range(1024)] for j in range(28)]for _ in range(28)])\n",
    "x2 = np.array([0 if i != 10 else 1 for i in range(1000)])\n",
    "\n",
    "\n",
    "func(x1,x2).shape\n",
    "\n"
   ]
  },
  {
   "cell_type": "code",
   "execution_count": 5,
   "metadata": {},
   "outputs": [],
   "source": []
  }
 ],
 "metadata": {
  "kernelspec": {
   "display_name": "Python 3 (ipykernel)",
   "language": "python",
   "name": "python3"
  },
  "language_info": {
   "codemirror_mode": {
    "name": "ipython",
    "version": 3
   },
   "file_extension": ".py",
   "mimetype": "text/x-python",
   "name": "python",
   "nbconvert_exporter": "python",
   "pygments_lexer": "ipython3",
   "version": "3.10.9"
  }
 },
 "nbformat": 4,
 "nbformat_minor": 1
}
