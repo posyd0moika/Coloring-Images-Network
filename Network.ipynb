{
 "cells": [
  {
   "cell_type": "code",
   "execution_count": 78,
   "metadata": {
    "collapsed": true
   },
   "outputs": [],
   "source": [
    "import tensorflow as tf\n",
    "import numpy as np\n",
    "import matplotlib.pyplot as plt\n",
    "from tensorflow import keras\n",
    "from keras.layers import Conv2D, UpSampling2D, InputLayer, Lambda\n",
    "import tensorflow.keras.backend as K"
   ]
  },
  {
   "cell_type": "code",
   "execution_count": 41,
   "metadata": {},
   "outputs": [
    {
     "name": "stdout",
     "output_type": "stream",
     "text": [
      "Model: \"vgg19\"\n",
      "_________________________________________________________________\n",
      " Layer (type)                Output Shape              Param #   \n",
      "=================================================================\n",
      " input_12 (InputLayer)       [(None, 224, 224, 3)]     0         \n",
      "                                                                 \n",
      " block1_conv1 (Conv2D)       (None, 224, 224, 64)      1792      \n",
      "                                                                 \n",
      " block1_conv2 (Conv2D)       (None, 224, 224, 64)      36928     \n",
      "                                                                 \n",
      " block1_pool (MaxPooling2D)  (None, 112, 112, 64)      0         \n",
      "                                                                 \n",
      " block2_conv1 (Conv2D)       (None, 112, 112, 128)     73856     \n",
      "                                                                 \n",
      " block2_conv2 (Conv2D)       (None, 112, 112, 128)     147584    \n",
      "                                                                 \n",
      " block2_pool (MaxPooling2D)  (None, 56, 56, 128)       0         \n",
      "                                                                 \n",
      " block3_conv1 (Conv2D)       (None, 56, 56, 256)       295168    \n",
      "                                                                 \n",
      " block3_conv2 (Conv2D)       (None, 56, 56, 256)       590080    \n",
      "                                                                 \n",
      " block3_conv3 (Conv2D)       (None, 56, 56, 256)       590080    \n",
      "                                                                 \n",
      " block3_conv4 (Conv2D)       (None, 56, 56, 256)       590080    \n",
      "                                                                 \n",
      " block3_pool (MaxPooling2D)  (None, 28, 28, 256)       0         \n",
      "                                                                 \n",
      " block4_conv1 (Conv2D)       (None, 28, 28, 512)       1180160   \n",
      "                                                                 \n",
      " block4_conv2 (Conv2D)       (None, 28, 28, 512)       2359808   \n",
      "                                                                 \n",
      " block4_conv3 (Conv2D)       (None, 28, 28, 512)       2359808   \n",
      "                                                                 \n",
      " block4_conv4 (Conv2D)       (None, 28, 28, 512)       2359808   \n",
      "                                                                 \n",
      " block4_pool (MaxPooling2D)  (None, 14, 14, 512)       0         \n",
      "                                                                 \n",
      " block5_conv1 (Conv2D)       (None, 14, 14, 512)       2359808   \n",
      "                                                                 \n",
      " block5_conv2 (Conv2D)       (None, 14, 14, 512)       2359808   \n",
      "                                                                 \n",
      " block5_conv3 (Conv2D)       (None, 14, 14, 512)       2359808   \n",
      "                                                                 \n",
      " block5_conv4 (Conv2D)       (None, 14, 14, 512)       2359808   \n",
      "                                                                 \n",
      " block5_pool (MaxPooling2D)  (None, 7, 7, 512)         0         \n",
      "                                                                 \n",
      " flatten (Flatten)           (None, 25088)             0         \n",
      "                                                                 \n",
      " fc1 (Dense)                 (None, 4096)              102764544 \n",
      "                                                                 \n",
      " fc2 (Dense)                 (None, 4096)              16781312  \n",
      "                                                                 \n",
      " predictions (Dense)         (None, 1000)              4097000   \n",
      "                                                                 \n",
      "=================================================================\n",
      "Total params: 143,667,240\n",
      "Trainable params: 0\n",
      "Non-trainable params: 143,667,240\n",
      "_________________________________________________________________\n"
     ]
    }
   ],
   "source": [
    "vgg19_cl = keras.applications.VGG19()\n",
    "vgg19_cl.trainable = False\n",
    "vgg19_cl.summary()"
   ]
  },
  {
   "cell_type": "code",
   "execution_count": 42,
   "metadata": {},
   "outputs": [
    {
     "name": "stdout",
     "output_type": "stream",
     "text": [
      "Model: \"conv_imag\"\n",
      "_________________________________________________________________\n",
      " Layer (type)                Output Shape              Param #   \n",
      "=================================================================\n",
      " conv2d_12 (Conv2D)          (None, 224, 224, 64)      640       \n",
      "                                                                 \n",
      " conv2d_13 (Conv2D)          (None, 112, 112, 64)      36928     \n",
      "                                                                 \n",
      " conv2d_14 (Conv2D)          (None, 112, 112, 128)     73856     \n",
      "                                                                 \n",
      " conv2d_15 (Conv2D)          (None, 56, 56, 128)       147584    \n",
      "                                                                 \n",
      " conv2d_16 (Conv2D)          (None, 56, 56, 256)       295168    \n",
      "                                                                 \n",
      " conv2d_17 (Conv2D)          (None, 28, 28, 256)       590080    \n",
      "                                                                 \n",
      " conv2d_18 (Conv2D)          (None, 28, 28, 512)       1180160   \n",
      "                                                                 \n",
      " conv2d_19 (Conv2D)          (None, 28, 28, 1024)      4719616   \n",
      "                                                                 \n",
      " conv2d_20 (Conv2D)          (None, 28, 28, 1024)      9438208   \n",
      "                                                                 \n",
      "=================================================================\n",
      "Total params: 16,482,240\n",
      "Trainable params: 16,482,240\n",
      "Non-trainable params: 0\n",
      "_________________________________________________________________\n"
     ]
    }
   ],
   "source": [
    "model_inp = keras.Sequential(name=\"conv_imag\")\n",
    "model_inp.add(InputLayer(input_shape=(224, 224, 1)))\n",
    "model_inp.add(Conv2D(64, (3, 3), activation='relu', padding='same'))\n",
    "model_inp.add(Conv2D(64, (3, 3), activation='relu', padding='same', strides=2))\n",
    "model_inp.add(Conv2D(128, (3, 3), activation='relu', padding='same'))\n",
    "model_inp.add(Conv2D(128, (3, 3), activation='relu', padding='same', strides=2))\n",
    "model_inp.add(Conv2D(256, (3, 3), activation='relu', padding='same'))\n",
    "model_inp.add(Conv2D(256, (3, 3), activation='relu', padding='same', strides=2))\n",
    "model_inp.add(Conv2D(512, (3, 3), activation='relu', padding='same'))\n",
    "model_inp.add(Conv2D(1024, (3, 3), activation='relu', padding='same'))\n",
    "model_inp.add(Conv2D(1024, (3, 3), activation='relu', padding='same'))\n",
    "model_inp.summary()"
   ]
  },
  {
   "cell_type": "code",
   "execution_count": 43,
   "metadata": {},
   "outputs": [],
   "source": [
    "model_out = keras.Sequential()\n",
    "model_out.add(InputLayer(input_shape=(28, 28, 1025)))\n",
    "model_out.add(UpSampling2D((2, 2)))\n",
    "model_out.add(Conv2D(64, (3, 3), activation='relu', padding='same'))\n",
    "model_out.add(UpSampling2D((2, 2)))\n",
    "model_out.add(Conv2D(32, (3, 3), activation='relu', padding='same'))\n",
    "model_out.add(Conv2D(2, (3, 3), activation='tanh', padding='same'))\n",
    "model_out.add(UpSampling2D((2, 2)))\n",
    "model_out.summary()"
   ]
  },
  {
   "cell_type": "code",
   "execution_count": 121,
   "metadata": {},
   "outputs": [],
   "source": [
    "inp_conv = InputLayer((224, 224, 1))\n",
    "\n",
    "\n",
    "def func(x1, x2):\n",
    "    \"\"\"\n",
    "\n",
    "    :param x1:  shape = (28, 28, 1024)\n",
    "    :param x2: shape = (1000, )\n",
    "    :return: x3 shape (28, 28, 1026)\n",
    "    \"\"\"\n",
    "    temp_zero = np.zeros(shape=(28*28*2))\n",
    "    temp_zero[:1000] = x2\n",
    "    x2 = np.reshape(temp_zero,newshape=(28,28,2))\n",
    "    return np.reshape(np.append(x1,x2),newshape=(28,28,1026))\n",
    "\n",
    "x1 = np.array([[[i for i in range(1024)] for j in range(28)]for _ in range(28)])\n",
    "x2 = np.array([0 if i != 10 else 1 for i in range(1000)])\n",
    "\n",
    "\n",
    "func(x1,x2).shape\n",
    "\n"
   ]
  },
  {
   "cell_type": "code",
   "execution_count": 122,
   "metadata": {},
   "outputs": [
    {
     "name": "stdout",
     "output_type": "stream",
     "text": [
      "tf.Tensor(\n",
      "[[0. 0. 0. ... 0. 0. 0.]\n",
      " [0. 0. 0. ... 0. 0. 0.]\n",
      " [0. 0. 0. ... 0. 0. 0.]\n",
      " ...\n",
      " [0. 0. 0. ... 0. 0. 0.]\n",
      " [0. 0. 0. ... 0. 0. 0.]\n",
      " [0. 0. 0. ... 0. 0. 0.]], shape=(224, 224), dtype=float32) KerasTensor(type_spec=TensorSpec(shape=(None, 224, 1), dtype=tf.float32, name=None), name='tf.__operators__.getitem_35/strided_slice:0', description=\"created by layer 'tf.__operators__.getitem_35'\")\n",
      "(None, 224, 224)\n",
      "KerasTensor(type_spec=TensorSpec(shape=(None, 224, 224), dtype=tf.float32, name=None), name='tf.__operators__.add_11/AddV2:0', description=\"created by layer 'tf.__operators__.add_11'\")\n",
      "WARNING:tensorflow:Model was constructed with shape (None, 224, 224, 3) for input KerasTensor(type_spec=TensorSpec(shape=(None, 224, 224, 3), dtype=tf.float32, name='input_12'), name='input_12', description=\"created by layer 'input_12'\"), but it was called on an input with incompatible shape (None, 224, 224).\n"
     ]
    },
    {
     "ename": "ValueError",
     "evalue": "Exception encountered when calling layer \"vgg19\" (type Functional).\n\nInput 0 of layer \"block1_conv1\" is incompatible with the layer: expected min_ndim=4, found ndim=3. Full shape received: (None, 224, 224)\n\nCall arguments received by layer \"vgg19\" (type Functional):\n  • inputs=tf.Tensor(shape=(None, 224, 224), dtype=float32)\n  • training=None\n  • mask=None",
     "output_type": "error",
     "traceback": [
      "\u001B[0;31m---------------------------------------------------------------------------\u001B[0m",
      "\u001B[0;31mValueError\u001B[0m                                Traceback (most recent call last)",
      "Cell \u001B[0;32mIn[122], line 5\u001B[0m\n\u001B[1;32m      3\u001B[0m inp_for_vgg \u001B[38;5;241m=\u001B[39m layer_vgg_resize(inp)  \u001B[38;5;66;03m# shape 224,244,1 -> 224,224,3\u001B[39;00m\n\u001B[1;32m      4\u001B[0m \u001B[38;5;28mprint\u001B[39m(inp_for_vgg)\n\u001B[0;32m----> 5\u001B[0m vgg_out \u001B[38;5;241m=\u001B[39m \u001B[43mvgg19_cl\u001B[49m\u001B[43m(\u001B[49m\u001B[43minp_for_vgg\u001B[49m\u001B[43m)\u001B[49m\n\u001B[1;32m      6\u001B[0m conv_out \u001B[38;5;241m=\u001B[39m model_inp(inp)\n\u001B[1;32m      8\u001B[0m cont_out \u001B[38;5;241m=\u001B[39m Lambda(func_cont)([vgg_out, conv_out])  \u001B[38;5;66;03m# shape 28,28,1026\u001B[39;00m\n",
      "File \u001B[0;32m~/opt/anaconda3/envs/tf/lib/python3.10/site-packages/keras/utils/traceback_utils.py:70\u001B[0m, in \u001B[0;36mfilter_traceback.<locals>.error_handler\u001B[0;34m(*args, **kwargs)\u001B[0m\n\u001B[1;32m     67\u001B[0m     filtered_tb \u001B[38;5;241m=\u001B[39m _process_traceback_frames(e\u001B[38;5;241m.\u001B[39m__traceback__)\n\u001B[1;32m     68\u001B[0m     \u001B[38;5;66;03m# To get the full stack trace, call:\u001B[39;00m\n\u001B[1;32m     69\u001B[0m     \u001B[38;5;66;03m# `tf.debugging.disable_traceback_filtering()`\u001B[39;00m\n\u001B[0;32m---> 70\u001B[0m     \u001B[38;5;28;01mraise\u001B[39;00m e\u001B[38;5;241m.\u001B[39mwith_traceback(filtered_tb) \u001B[38;5;28;01mfrom\u001B[39;00m \u001B[38;5;28mNone\u001B[39m\n\u001B[1;32m     71\u001B[0m \u001B[38;5;28;01mfinally\u001B[39;00m:\n\u001B[1;32m     72\u001B[0m     \u001B[38;5;28;01mdel\u001B[39;00m filtered_tb\n",
      "File \u001B[0;32m~/opt/anaconda3/envs/tf/lib/python3.10/site-packages/keras/engine/input_spec.py:250\u001B[0m, in \u001B[0;36massert_input_compatibility\u001B[0;34m(input_spec, inputs, layer_name)\u001B[0m\n\u001B[1;32m    248\u001B[0m     ndim \u001B[38;5;241m=\u001B[39m x\u001B[38;5;241m.\u001B[39mshape\u001B[38;5;241m.\u001B[39mrank\n\u001B[1;32m    249\u001B[0m     \u001B[38;5;28;01mif\u001B[39;00m ndim \u001B[38;5;129;01mis\u001B[39;00m \u001B[38;5;129;01mnot\u001B[39;00m \u001B[38;5;28;01mNone\u001B[39;00m \u001B[38;5;129;01mand\u001B[39;00m ndim \u001B[38;5;241m<\u001B[39m spec\u001B[38;5;241m.\u001B[39mmin_ndim:\n\u001B[0;32m--> 250\u001B[0m         \u001B[38;5;28;01mraise\u001B[39;00m \u001B[38;5;167;01mValueError\u001B[39;00m(\n\u001B[1;32m    251\u001B[0m             \u001B[38;5;124mf\u001B[39m\u001B[38;5;124m'\u001B[39m\u001B[38;5;124mInput \u001B[39m\u001B[38;5;132;01m{\u001B[39;00minput_index\u001B[38;5;132;01m}\u001B[39;00m\u001B[38;5;124m of layer \u001B[39m\u001B[38;5;124m\"\u001B[39m\u001B[38;5;132;01m{\u001B[39;00mlayer_name\u001B[38;5;132;01m}\u001B[39;00m\u001B[38;5;124m\"\u001B[39m\u001B[38;5;124m \u001B[39m\u001B[38;5;124m'\u001B[39m\n\u001B[1;32m    252\u001B[0m             \u001B[38;5;124m\"\u001B[39m\u001B[38;5;124mis incompatible with the layer: \u001B[39m\u001B[38;5;124m\"\u001B[39m\n\u001B[1;32m    253\u001B[0m             \u001B[38;5;124mf\u001B[39m\u001B[38;5;124m\"\u001B[39m\u001B[38;5;124mexpected min_ndim=\u001B[39m\u001B[38;5;132;01m{\u001B[39;00mspec\u001B[38;5;241m.\u001B[39mmin_ndim\u001B[38;5;132;01m}\u001B[39;00m\u001B[38;5;124m, \u001B[39m\u001B[38;5;124m\"\u001B[39m\n\u001B[1;32m    254\u001B[0m             \u001B[38;5;124mf\u001B[39m\u001B[38;5;124m\"\u001B[39m\u001B[38;5;124mfound ndim=\u001B[39m\u001B[38;5;132;01m{\u001B[39;00mndim\u001B[38;5;132;01m}\u001B[39;00m\u001B[38;5;124m. \u001B[39m\u001B[38;5;124m\"\u001B[39m\n\u001B[1;32m    255\u001B[0m             \u001B[38;5;124mf\u001B[39m\u001B[38;5;124m\"\u001B[39m\u001B[38;5;124mFull shape received: \u001B[39m\u001B[38;5;132;01m{\u001B[39;00m\u001B[38;5;28mtuple\u001B[39m(shape)\u001B[38;5;132;01m}\u001B[39;00m\u001B[38;5;124m\"\u001B[39m\n\u001B[1;32m    256\u001B[0m         )\n\u001B[1;32m    257\u001B[0m \u001B[38;5;66;03m# Check dtype.\u001B[39;00m\n\u001B[1;32m    258\u001B[0m \u001B[38;5;28;01mif\u001B[39;00m spec\u001B[38;5;241m.\u001B[39mdtype \u001B[38;5;129;01mis\u001B[39;00m \u001B[38;5;129;01mnot\u001B[39;00m \u001B[38;5;28;01mNone\u001B[39;00m:\n",
      "\u001B[0;31mValueError\u001B[0m: Exception encountered when calling layer \"vgg19\" (type Functional).\n\nInput 0 of layer \"block1_conv1\" is incompatible with the layer: expected min_ndim=4, found ndim=3. Full shape received: (None, 224, 224)\n\nCall arguments received by layer \"vgg19\" (type Functional):\n  • inputs=tf.Tensor(shape=(None, 224, 224), dtype=float32)\n  • training=None\n  • mask=None"
     ]
    }
   ],
   "source": []
  }
 ],
 "metadata": {
  "kernelspec": {
   "display_name": "Python 3 (ipykernel)",
   "language": "python",
   "name": "python3"
  },
  "language_info": {
   "codemirror_mode": {
    "name": "ipython",
    "version": 3
   },
   "file_extension": ".py",
   "mimetype": "text/x-python",
   "name": "python",
   "nbconvert_exporter": "python",
   "pygments_lexer": "ipython3",
   "version": "3.10.9"
  }
 },
 "nbformat": 4,
 "nbformat_minor": 1
}
